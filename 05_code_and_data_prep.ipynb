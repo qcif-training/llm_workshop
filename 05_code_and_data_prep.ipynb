{
 "cells": [
  {
   "cell_type": "markdown",
   "id": "a8e4632d",
   "metadata": {},
   "source": [
    "# 05 — Code & Data Prep with LLMs\n",
    "\n",
    "**Goal:** Practice using an LLM to help with **coding** and **data wrangling** tasks, while keeping your workflow transparent and reproducible.\n",
    "\n",
    "What you'll learn:\n",
    "- When LLMs are helpful for coding — and when they are **not**.\n",
    "- Generating a small Python function from natural language (NL).\n",
    "- Explaining existing code in plain English.\n",
    "- Cleaning a tiny messy dataset with clear, auditable steps.\n",
    "- Asking quick statistical questions (and verifying with code).\n",
    "\n",
    "> This notebook assumes you've completed **03** and **04**. We continue using the same Groq setup and the `chat()` helper.\n"
   ]
  },
  {
   "cell_type": "markdown",
   "id": "453072de",
   "metadata": {},
   "source": [
    "## 0) Groq API settings (run first)\n",
    "\n",
    "Paste your Groq API key below. For a workshop, it's fine to use a plain string here (but not secure for sharing).\n"
   ]
  },
  {
   "cell_type": "code",
   "execution_count": null,
   "id": "8b911c4e",
   "metadata": {},
   "outputs": [
    {
     "name": "stdout",
     "output_type": "stream",
     "text": [
      "Groq settings ready (remember to paste your key).\n"
     ]
    }
   ],
   "source": [
    "# --- Groq API Settings ---\n",
    "import os\n",
    "os.environ[\"GROQ_API_KEY\"] = \"\"  # <-- replace with your key, e.g., \"gsk_...\"\n",
    "model = \"llama-3.3-70b-versatile\"  # https://console.groq.com/docs/models\n",
    "os.environ[\"BASE_URL\"] = \"https://api.groq.com/openai/v1\"  # OpenAI-compatible endpoint\n",
    "print(\"Groq settings ready (remember to paste your key).\")\n"
   ]
  },
  {
   "cell_type": "markdown",
   "id": "d2c47600",
   "metadata": {},
   "source": [
    "## 1) Create the client and helpers\n",
    "\n",
    "We use a small set of helpers:\n",
    "- `chat()` — send a message to the model.\n",
    "- `set_system()` — reset memory with a system instruction.\n",
    "- `clear_chat()` — clear memory entirely.\n",
    "\n",
    "Keeping memory tidy is important for **reproducibility**.\n"
   ]
  },
  {
   "cell_type": "code",
   "execution_count": null,
   "id": "7b887bc3",
   "metadata": {},
   "outputs": [
    {
     "name": "stdout",
     "output_type": "stream",
     "text": [
      "Testing API ...\n",
      "\n",
      "User:\n",
      "Hello LLM!\n",
      "LLM:\n",
      "Hello! It's nice to meet you. Is there something I can help you with or would you like to chat?\n",
      "\n",
      "Client ready. Use chat('...'), set_system('...'), clear_chat().\n"
     ]
    }
   ],
   "source": [
    "from openai import OpenAI\n",
    "\n",
    "chat_history = []\n",
    "client = OpenAI(api_key=os.environ[\"GROQ_API_KEY\"], base_url=os.environ[\"BASE_URL\"])\n",
    "\n",
    "def set_system(prompt: str):\n",
    "    \"\"\"Reset chat to a single system message.\"\"\"\n",
    "    global chat_history\n",
    "    chat_history = [{\"role\": \"system\", \"content\": prompt}]\n",
    "    return chat_history\n",
    "\n",
    "def clear_chat():\n",
    "    \"\"\"Clear all chat history.\"\"\"\n",
    "    global chat_history\n",
    "    chat_history = []\n",
    "    return chat_history\n",
    "\n",
    "def chat(user_input: str, temperature: float = 0.2, max_turns: int = 8):\n",
    "    \"\"\"Send one user turn and get a reply, preserving context.\n",
    "    Keeps system prompt + last `max_turns` user/assistant messages.\n",
    "    \"\"\"\n",
    "    global chat_history\n",
    "    chat_history.append({\"role\": \"user\", \"content\": user_input})\n",
    "    system = chat_history[:1]\n",
    "    recent = chat_history[-(max_turns*2):] if len(chat_history) > 1 else []\n",
    "    window = system + recent\n",
    "    resp = client.chat.completions.create(model=model, messages=window, temperature=temperature)\n",
    "    reply = resp.choices[0].message.content\n",
    "    chat_history.append({\"role\": \"assistant\", \"content\": reply})\n",
    "    return reply\n",
    "\n",
    "\n",
    "print(\"Testing API ...\")\n",
    "print()\n",
    "print(\"User:\")\n",
    "print(\"Hello LLM!\")\n",
    "print(\"LLM:\")\n",
    "print(chat(\"Hello LLM!\"))\n",
    "print()\n",
    "print(\"Client ready. Use chat('...'), set_system('...'), clear_chat().\")\n",
    "\n"
   ]
  },
  {
   "cell_type": "markdown",
   "id": "90c38efe",
   "metadata": {},
   "source": [
    "## 2) When to use LLMs for coding — and when not to\n",
    "\n",
    "**Good uses:**\n",
    "- Writing small helper functions (string cleaning, quick plotting, file I/O).\n",
    "- Explaining unknown code you *already trust*.\n",
    "- Drafting boilerplate (docstrings, argument parsing).\n",
    "\n",
    "**Be cautious / avoid:**\n",
    "- Security-sensitive code (auth, crypto, secrets).\n",
    "- Heavy numerical code where correctness is critical (derive first, then code).\n",
    "- Blindly executing generated code — **always read and test**.\n",
    "\n",
    "In this notebook, we keep examples **small and auditable**.\n"
   ]
  },
  {
   "cell_type": "markdown",
   "id": "d05e657f",
   "metadata": {},
   "source": [
    "## 3) Generate a small Python function from natural language (NL)\n",
    "\n",
    "We'll ask the LLM for a short, reusable helper:\n",
    "> *\"Write a function that normalises a CSV column (strip spaces, lowercase strings, and convert numbers safely).\"*\n",
    "\n",
    "We **do not** auto-execute the returned code — we read it first, then (optionally) paste it into a new cell.\n"
   ]
  },
  {
   "cell_type": "code",
   "execution_count": 3,
   "id": "73ca4427",
   "metadata": {},
   "outputs": [
    {
     "name": "stdout",
     "output_type": "stream",
     "text": [
      "```python\n",
      "import pandas as pd\n",
      "import numpy as np\n",
      "\n",
      "def normalize_column(df, col):\n",
      "    \"\"\"\n",
      "    Normalize a column in a DataFrame: strip and lowercase strings, coerce to numeric otherwise.\n",
      "\n",
      "    Parameters:\n",
      "    df (pd.DataFrame): Input DataFrame\n",
      "    col (str): Column name to normalize\n",
      "\n",
      "    Returns:\n",
      "    pd.DataFrame: Modified DataFrame\n",
      "    \"\"\"\n",
      "    if df[col].dtype.kind in 'bOUS':  # string-like\n",
      "        df[col] = df[col].str.strip().str.lower()\n",
      "    else:  # numeric-like\n",
      "        df[col] = pd.to_numeric(df[col], errors='coerce')\n",
      "    return df\n",
      "```\n"
     ]
    }
   ],
   "source": [
    "clear_chat()\n",
    "set_system(\"You are a helpful Python tutor. Keep code short, readable, and beginner-friendly.\")\n",
    "\n",
    "prompt = \"\"\"    Write a Python function:\n",
    "- name: normalize_column(df, col)\n",
    "- if the column is string-like: strip spaces and lowercase\n",
    "- if numeric-like: coerce to numeric (errors='coerce')\n",
    "- return the modified dataframe (in-place ok for simplicity)\n",
    "Keep it short and add a concise docstring.\n",
    "\"\"\"\n",
    "code_suggestion = chat(prompt, temperature=0.2)\n",
    "print(code_suggestion)\n"
   ]
  },
  {
   "cell_type": "markdown",
   "id": "4be81e0d",
   "metadata": {},
   "source": [
    "**Review the code above** (visually) and paste it into a new cell if you're happy with it.  \n",
    "For convenience, here's a **simple reference implementation** you can run directly:\n"
   ]
  },
  {
   "cell_type": "code",
   "execution_count": 4,
   "id": "763a3f15",
   "metadata": {},
   "outputs": [
    {
     "name": "stdout",
     "output_type": "stream",
     "text": [
      "Before:\n",
      "        name           age\n",
      "0    Alice             23\n",
      "1       BOB  not a number\n",
      "2      None           45 \n",
      "\n",
      "After:\n",
      "     name   age\n",
      "0  alice  23.0\n",
      "1    bob   NaN\n",
      "2   none  45.0\n"
     ]
    }
   ],
   "source": [
    "import pandas as pd\n",
    "import numpy as np\n",
    "\n",
    "def normalize_column(df: pd.DataFrame, col: str) -> pd.DataFrame:\n",
    "    \"\"\"Normalize a column: strip/lowercase strings, coerce numeric.\n",
    "\n",
    "\n",
    "    This is a minimal, workshop-friendly version.\n",
    "    \"\"\"\n",
    "    if col not in df.columns:\n",
    "        return df\n",
    "    s = df[col]\n",
    "    # Try numeric coercion first\n",
    "    coerced = pd.to_numeric(s, errors=\"coerce\")\n",
    "    if coerced.notna().sum() > 0 and coerced.isna().sum() < len(s):\n",
    "        df[col] = coerced\n",
    "        return df\n",
    "    # Fall back to string normalization\n",
    "    df[col] = s.astype(str).str.strip().str.lower()\n",
    "    return df\n",
    "\n",
    "# Tiny demo\n",
    "tmp = pd.DataFrame({\n",
    "    \"name\": [\"  Alice \", \"BOB\", None],\n",
    "    \"age\": [\" 23\", \"not a number\", \"45 \"],\n",
    "})\n",
    "print(\"Before:\\n\", tmp)\n",
    "normalize_column(tmp, \"name\")\n",
    "normalize_column(tmp, \"age\")\n",
    "print(\"\\nAfter:\\n\", tmp)\n"
   ]
  },
  {
   "cell_type": "markdown",
   "id": "a8caf9d5",
   "metadata": {},
   "source": [
    "## 4) Explain existing code\n",
    "\n",
    "Now let's ask the LLM to **explain** a snippet. This is great for onboarding and code reviews.\n"
   ]
  },
  {
   "cell_type": "code",
   "execution_count": 5,
   "id": "3fc8e19f",
   "metadata": {},
   "outputs": [
    {
     "name": "stdout",
     "output_type": "stream",
     "text": [
      "Let's break down this code step by step.\n",
      "\n",
      "### Function Definition\n",
      "```python\n",
      "def zscore(x):\n",
      "```\n",
      "This line defines a function named `zscore` that takes one argument `x`. This function will calculate the z-score of the input data.\n",
      "\n",
      "### Importing Libraries\n",
      "```python\n",
      "import numpy as np\n",
      "```\n",
      "This line imports the `numpy` library and assigns it the alias `np`. `numpy` is a library for efficient numerical computation in Python.\n",
      "\n",
      "### Data Conversion\n",
      "```python\n",
      "x = np.asarray(x, dtype=float)\n",
      "```\n",
      "This line converts the input `x` into a `numpy` array with a data type of `float`. This is done to ensure that the input data is in a format that can be used for numerical computations.\n",
      "\n",
      "### Calculating the Z-Score\n",
      "```python\n",
      "return (x - x.mean()) / (x.std(ddof=1) if x.size > 1 else 1.0)\n",
      "```\n",
      "This line calculates the z-score of the input data and returns the result. Let's break it down further:\n",
      "\n",
      "* `x.mean()`: This calculates the mean (average) of the input data.\n",
      "* `x - x.mean()`: This subtracts the mean from each data point, which gives us the deviation of each point from the mean.\n",
      "* `x.std(ddof=1)`: This calculates the standard deviation of the input data. The `ddof=1` argument specifies that we want to use Bessel's correction, which is a way of estimating the population standard deviation from a sample.\n",
      "* `x.size > 1`: This checks if the input data has more than one element. If it does, we use the standard deviation to calculate the z-score. If it doesn't, we use a default value of 1.0 to avoid division by zero.\n",
      "* `(x - x.mean()) / (x.std(ddof=1) if x.size > 1 else 1.0)`: This divides the deviation of each point from the mean by the standard deviation (or 1.0 if the input data has only one element). This gives us the z-score, which is a measure of how many standard deviations each point is away from the mean.\n",
      "\n",
      "### Example Use Case\n",
      "```python\n",
      "data = [1, 2, 3, 4, 5]\n",
      "z_scores = zscore(data)\n",
      "print(z_scores)\n",
      "```\n",
      "This code would calculate the z-score of each point in the input data and print the result.\n",
      "\n",
      "### Advice\n",
      "When working with this code, make sure to pass in a list or array of numbers as the input `x`. Also, be aware that the z-score calculation assumes that the input data is normally distributed. If the data is not normally distributed, you may need to use a different method to calculate the z-score.\n"
     ]
    }
   ],
   "source": [
    "snippet = \"\"\"    def zscore(x):\n",
    "    import numpy as np\n",
    "    x = np.asarray(x, dtype=float)\n",
    "    return (x - x.mean()) / (x.std(ddof=1) if x.size > 1 else 1.0)\n",
    "\"\"\"\n",
    "\n",
    "clear_chat()\n",
    "set_system(\"Explain code like a patient senior engineer helping a beginner.\")\n",
    "explanation = chat(f\"Explain this code step by step:\\n\\n{snippet}\", temperature=0.2)\n",
    "print(explanation)\n"
   ]
  },
  {
   "cell_type": "markdown",
   "id": "116aae69",
   "metadata": {},
   "source": [
    "## 5) Data cleaning with guidance\n",
    "\n",
    "We'll make a **tiny messy dataset** and demonstrate a few small, **auditable** cleaning steps.\n",
    "\n",
    "Steps:\n",
    "1. Inspect data (head, dtypes, missing values).\n",
    "2. Normalise columns using our helper.\n",
    "3. Handle missing values with simple choices.\n",
    "4. Fix simple typos using a small dictionary.\n"
   ]
  },
  {
   "cell_type": "code",
   "execution_count": 6,
   "id": "67be7000",
   "metadata": {},
   "outputs": [
    {
     "name": "stdout",
     "output_type": "stream",
     "text": [
      "Original data:\n"
     ]
    },
    {
     "data": {
      "text/html": [
       "<div>\n",
       "<style scoped>\n",
       "    .dataframe tbody tr th:only-of-type {\n",
       "        vertical-align: middle;\n",
       "    }\n",
       "\n",
       "    .dataframe tbody tr th {\n",
       "        vertical-align: top;\n",
       "    }\n",
       "\n",
       "    .dataframe thead th {\n",
       "        text-align: right;\n",
       "    }\n",
       "</style>\n",
       "<table border=\"1\" class=\"dataframe\">\n",
       "  <thead>\n",
       "    <tr style=\"text-align: right;\">\n",
       "      <th></th>\n",
       "      <th>id</th>\n",
       "      <th>city</th>\n",
       "      <th>temp_c</th>\n",
       "      <th>notes</th>\n",
       "    </tr>\n",
       "  </thead>\n",
       "  <tbody>\n",
       "    <tr>\n",
       "      <th>0</th>\n",
       "      <td>1</td>\n",
       "      <td>Brisbane</td>\n",
       "      <td>22.1</td>\n",
       "      <td>Sunny</td>\n",
       "    </tr>\n",
       "    <tr>\n",
       "      <th>1</th>\n",
       "      <td>2</td>\n",
       "      <td>brisbane</td>\n",
       "      <td>21.8</td>\n",
       "      <td>Cloudy</td>\n",
       "    </tr>\n",
       "    <tr>\n",
       "      <th>2</th>\n",
       "      <td>3</td>\n",
       "      <td>Brisban</td>\n",
       "      <td>not avail</td>\n",
       "      <td>None</td>\n",
       "    </tr>\n",
       "    <tr>\n",
       "      <th>3</th>\n",
       "      <td>4</td>\n",
       "      <td>None</td>\n",
       "      <td>19.5</td>\n",
       "      <td>light rain</td>\n",
       "    </tr>\n",
       "    <tr>\n",
       "      <th>4</th>\n",
       "      <td>5</td>\n",
       "      <td>Sydney</td>\n",
       "      <td>28.0</td>\n",
       "      <td>WINDY</td>\n",
       "    </tr>\n",
       "  </tbody>\n",
       "</table>\n",
       "</div>"
      ],
      "text/plain": [
       "   id       city     temp_c        notes\n",
       "0   1   Brisbane       22.1        Sunny\n",
       "1   2  brisbane        21.8       Cloudy\n",
       "2   3    Brisban  not avail         None\n",
       "3   4       None       19.5   light rain\n",
       "4   5     Sydney      28.0       WINDY  "
      ]
     },
     "metadata": {},
     "output_type": "display_data"
    },
    {
     "name": "stdout",
     "output_type": "stream",
     "text": [
      "Dtypes:\n",
      "id         int64\n",
      "city      object\n",
      "temp_c    object\n",
      "notes     object\n",
      "dtype: object\n"
     ]
    }
   ],
   "source": [
    "# Create a tiny messy dataset\n",
    "raw = pd.DataFrame({\n",
    "    \"id\": [1, 2, 3, 4, 5],\n",
    "    \"city\": [\"Brisbane\", \"brisbane \", \"Brisban\", None, \"Sydney\"],\n",
    "    \"temp_c\": [\"22.1\", \"21.8\", \"not avail\", \" 19.5\", \"  28.0 \"],\n",
    "    \"notes\": [\" Sunny\", \"Cloudy\", None, \" light rain\", \"WINDY  \"],\n",
    "})\n",
    "\n",
    "print(\"Original data:\")\n",
    "display(raw)\n",
    "\n",
    "print(\"Dtypes:\")\n",
    "print(raw.dtypes)\n"
   ]
  },
  {
   "cell_type": "markdown",
   "id": "2b66513f",
   "metadata": {},
   "source": [
    "### Normalising columns"
   ]
  },
  {
   "cell_type": "code",
   "execution_count": 7,
   "id": "ac27e039",
   "metadata": {},
   "outputs": [
    {
     "name": "stdout",
     "output_type": "stream",
     "text": [
      "After basic normalization:\n"
     ]
    },
    {
     "data": {
      "text/html": [
       "<div>\n",
       "<style scoped>\n",
       "    .dataframe tbody tr th:only-of-type {\n",
       "        vertical-align: middle;\n",
       "    }\n",
       "\n",
       "    .dataframe tbody tr th {\n",
       "        vertical-align: top;\n",
       "    }\n",
       "\n",
       "    .dataframe thead th {\n",
       "        text-align: right;\n",
       "    }\n",
       "</style>\n",
       "<table border=\"1\" class=\"dataframe\">\n",
       "  <thead>\n",
       "    <tr style=\"text-align: right;\">\n",
       "      <th></th>\n",
       "      <th>id</th>\n",
       "      <th>city</th>\n",
       "      <th>temp_c</th>\n",
       "      <th>notes</th>\n",
       "    </tr>\n",
       "  </thead>\n",
       "  <tbody>\n",
       "    <tr>\n",
       "      <th>0</th>\n",
       "      <td>1</td>\n",
       "      <td>brisbane</td>\n",
       "      <td>22.1</td>\n",
       "      <td>sunny</td>\n",
       "    </tr>\n",
       "    <tr>\n",
       "      <th>1</th>\n",
       "      <td>2</td>\n",
       "      <td>brisbane</td>\n",
       "      <td>21.8</td>\n",
       "      <td>cloudy</td>\n",
       "    </tr>\n",
       "    <tr>\n",
       "      <th>2</th>\n",
       "      <td>3</td>\n",
       "      <td>brisban</td>\n",
       "      <td>NaN</td>\n",
       "      <td>none</td>\n",
       "    </tr>\n",
       "    <tr>\n",
       "      <th>3</th>\n",
       "      <td>4</td>\n",
       "      <td>none</td>\n",
       "      <td>19.5</td>\n",
       "      <td>light rain</td>\n",
       "    </tr>\n",
       "    <tr>\n",
       "      <th>4</th>\n",
       "      <td>5</td>\n",
       "      <td>sydney</td>\n",
       "      <td>28.0</td>\n",
       "      <td>windy</td>\n",
       "    </tr>\n",
       "  </tbody>\n",
       "</table>\n",
       "</div>"
      ],
      "text/plain": [
       "   id      city  temp_c       notes\n",
       "0   1  brisbane    22.1       sunny\n",
       "1   2  brisbane    21.8      cloudy\n",
       "2   3   brisban     NaN        none\n",
       "3   4      none    19.5  light rain\n",
       "4   5    sydney    28.0       windy"
      ]
     },
     "metadata": {},
     "output_type": "display_data"
    },
    {
     "name": "stdout",
     "output_type": "stream",
     "text": [
      "id          int64\n",
      "city       object\n",
      "temp_c    float64\n",
      "notes      object\n",
      "dtype: object\n"
     ]
    }
   ],
   "source": [
    "# 5.1 Normalize textual/numeric columns\n",
    "clean1 = raw.copy()\n",
    "clean1 = normalize_column(clean1, \"temp_c\")\n",
    "clean1 = normalize_column(clean1, \"notes\")\n",
    "# for 'city', keep as strings (no numeric coercion), so do a custom string pass:\n",
    "clean1[\"city\"] = clean1[\"city\"].astype(str).str.strip().str.lower()\n",
    "\n",
    "print(\"After basic normalization:\")\n",
    "display(clean1)\n",
    "print(clean1.dtypes)\n"
   ]
  },
  {
   "cell_type": "markdown",
   "id": "4bf394c8",
   "metadata": {},
   "source": [
    "### Handle missing values"
   ]
  },
  {
   "cell_type": "markdown",
   "id": "5a52fcc6",
   "metadata": {},
   "source": [
    "Example function to compare with LLm's code"
   ]
  },
  {
   "cell_type": "code",
   "execution_count": 8,
   "id": "42119e97",
   "metadata": {},
   "outputs": [],
   "source": [
    "def fill_missing_auto(df, placeholder=\"unknown\"):\n",
    "    \"\"\"\n",
    "    Fill missing values automatically:\n",
    "      - Numeric columns → replace NaN with the column mean\n",
    "      - Text columns → replace 'none' with missing, then fill with a placeholder\n",
    "\n",
    "    Returns a new DataFrame (does not change the original).\n",
    "    \"\"\"\n",
    "    out = df.copy()\n",
    "\n",
    "    for col in out.columns:\n",
    "        if out[col].dtype.kind in \"fiu\":  # numeric columns\n",
    "            mean_val = out[col].mean(skipna=True)\n",
    "            out[col] = out[col].fillna(mean_val)\n",
    "        elif out[col].dtype.kind in \"bOUS\":  # boolean or text-like\n",
    "            out[col] = out[col].replace({\"none\": None}).fillna(placeholder)\n",
    "\n",
    "    return out\n",
    "\n"
   ]
  },
  {
   "cell_type": "markdown",
   "id": "da4e66e8",
   "metadata": {},
   "source": [
    "Asking LLM to generate the function"
   ]
  },
  {
   "cell_type": "code",
   "execution_count": 9,
   "id": "d00515ea",
   "metadata": {},
   "outputs": [
    {
     "name": "stdout",
     "output_type": "stream",
     "text": [
      "```python\n",
      "import pandas as pd\n",
      "import numpy as np\n",
      "\n",
      "def fill_missing_auto(df, placeholder=\"unknown\"):\n",
      "    \"\"\"\n",
      "    Fill missing values in a DataFrame.\n",
      "\n",
      "    For numeric columns, replace NaN values with the column mean.\n",
      "    For text columns, replace 'none' with NaN, then fill NaN values with the placeholder.\n",
      "\n",
      "    Args:\n",
      "        df (pd.DataFrame): Input DataFrame.\n",
      "        placeholder (str, optional): Placeholder string. Defaults to \"unknown\".\n",
      "\n",
      "    Returns:\n",
      "        pd.DataFrame: New DataFrame with filled missing values.\n",
      "    \"\"\"\n",
      "\n",
      "    # Create a copy of the original DataFrame to avoid modifying it\n",
      "    new_df = df.copy()\n",
      "\n",
      "    # Iterate over each column in the DataFrame\n",
      "    for col in new_df.columns:\n",
      "        # Check if the column contains numeric values\n",
      "        if new_df[col].dtype.kind in 'bifc':\n",
      "            # Replace NaN values with the column mean\n",
      "            new_df[col] = new_df[col].fillna(new_df[col].mean())\n",
      "        else:\n",
      "            # Replace 'none' with NaN\n",
      "            new_df[col] = new_df[col].replace('none', np.nan)\n",
      "            # Fill NaN values with the placeholder\n",
      "            new_df[col] = new_df[col].fillna(placeholder)\n",
      "\n",
      "    return new_df\n",
      "\n",
      "# Example usage:\n",
      "df = pd.DataFrame({\n",
      "    'A': [1, 2, np.nan, 4],\n",
      "    'B': ['a', 'b', 'none', 'd'],\n",
      "    'C': [np.nan, 2.5, 3.5, 4.5]\n",
      "})\n",
      "\n",
      "new_df = fill_missing_auto(df)\n",
      "print(new_df)\n",
      "```\n",
      "\n",
      "In this code:\n",
      "\n",
      "1. We define a function `fill_missing_auto` that takes a DataFrame `df` and a placeholder string as input.\n",
      "2. We create a copy of the original DataFrame to avoid modifying it.\n",
      "3. We iterate over each column in the DataFrame.\n",
      "4. For numeric columns, we replace NaN values with the column mean using `fillna` and `mean` methods.\n",
      "5. For text columns, we replace 'none' with NaN using the `replace` method, then fill NaN values with the placeholder using `fillna`.\n",
      "6. Finally, we return the new DataFrame with filled missing values.\n",
      "\n",
      "The example usage demonstrates how to use the `fill_missing_auto` function with a sample DataFrame.\n"
     ]
    }
   ],
   "source": [
    "### Ask LLM to generate the function\n",
    "\n",
    "clear_chat()\n",
    "set_system(\"You are a helpful Python tutor. Keep code short, readable, and beginner-friendly.\")\n",
    "\n",
    "prompt = \"\"\"\n",
    "Create a function named fill_missing_auto that performs below.\n",
    "It gets a dataframe, and a place holder string (default \"unknown\"). It detects string and numerical values and fills in \n",
    "missing values using a simple, easy-to-read approach:\n",
    "  - For the numeric columns replaces NaN values with the column mean.\n",
    "  - For text columns turns 'none' into missing, then fills missing entries with the placeholder (default \"unknown\").\n",
    "Returns a new DataFrame (does not modify the original).\n",
    "\"\"\"\n",
    "\n",
    "code_suggestion = chat(prompt, temperature=0.2)\n",
    "print(code_suggestion)"
   ]
  },
  {
   "cell_type": "markdown",
   "id": "f7cdff07",
   "metadata": {},
   "source": [
    "Paste LLMs function below"
   ]
  },
  {
   "cell_type": "code",
   "execution_count": 10,
   "id": "afeda361",
   "metadata": {},
   "outputs": [],
   "source": [
    "def fill_missing_auto(df, placeholder=\"unknown\"):\n",
    "    \"\"\"\n",
    "    Fill missing values in a DataFrame.\n",
    "\n",
    "    For numeric columns, replace NaN values with the column mean.\n",
    "    For text columns, replace 'none' with NaN, then fill NaN values with the placeholder.\n",
    "\n",
    "    Args:\n",
    "        df (pd.DataFrame): Input DataFrame.\n",
    "        placeholder (str, optional): Placeholder string. Defaults to \"unknown\".\n",
    "\n",
    "    Returns:\n",
    "        pd.DataFrame: New DataFrame with filled missing values.\n",
    "    \"\"\"\n",
    "\n",
    "    # Create a copy of the original DataFrame\n",
    "    new_df = df.copy()\n",
    "\n",
    "    # Iterate over each column in the DataFrame\n",
    "    for col in new_df.columns:\n",
    "        # Check if the column contains numeric values\n",
    "        if new_df[col].dtype.kind in 'bifc':\n",
    "            # Replace NaN values with the column mean\n",
    "            new_df[col] = new_df[col].fillna(new_df[col].mean())\n",
    "        else:\n",
    "            # Replace 'none' with NaN\n",
    "            new_df[col] = new_df[col].replace('none', np.nan)\n",
    "            # Replace NaN values with the placeholder\n",
    "            new_df[col] = new_df[col].fillna(placeholder)\n",
    "\n",
    "    return new_df"
   ]
  },
  {
   "cell_type": "markdown",
   "id": "b7328fd7",
   "metadata": {},
   "source": [
    "Testing the function"
   ]
  },
  {
   "cell_type": "code",
   "execution_count": 11,
   "id": "b28dc231",
   "metadata": {},
   "outputs": [
    {
     "name": "stdout",
     "output_type": "stream",
     "text": [
      "After filling missing values:\n"
     ]
    },
    {
     "data": {
      "text/html": [
       "<div>\n",
       "<style scoped>\n",
       "    .dataframe tbody tr th:only-of-type {\n",
       "        vertical-align: middle;\n",
       "    }\n",
       "\n",
       "    .dataframe tbody tr th {\n",
       "        vertical-align: top;\n",
       "    }\n",
       "\n",
       "    .dataframe thead th {\n",
       "        text-align: right;\n",
       "    }\n",
       "</style>\n",
       "<table border=\"1\" class=\"dataframe\">\n",
       "  <thead>\n",
       "    <tr style=\"text-align: right;\">\n",
       "      <th></th>\n",
       "      <th>id</th>\n",
       "      <th>city</th>\n",
       "      <th>temp_c</th>\n",
       "      <th>notes</th>\n",
       "    </tr>\n",
       "  </thead>\n",
       "  <tbody>\n",
       "    <tr>\n",
       "      <th>0</th>\n",
       "      <td>1</td>\n",
       "      <td>brisbane</td>\n",
       "      <td>22.10</td>\n",
       "      <td>sunny</td>\n",
       "    </tr>\n",
       "    <tr>\n",
       "      <th>1</th>\n",
       "      <td>2</td>\n",
       "      <td>brisbane</td>\n",
       "      <td>21.80</td>\n",
       "      <td>cloudy</td>\n",
       "    </tr>\n",
       "    <tr>\n",
       "      <th>2</th>\n",
       "      <td>3</td>\n",
       "      <td>brisban</td>\n",
       "      <td>22.85</td>\n",
       "      <td>unknown</td>\n",
       "    </tr>\n",
       "    <tr>\n",
       "      <th>3</th>\n",
       "      <td>4</td>\n",
       "      <td>unknown</td>\n",
       "      <td>19.50</td>\n",
       "      <td>light rain</td>\n",
       "    </tr>\n",
       "    <tr>\n",
       "      <th>4</th>\n",
       "      <td>5</td>\n",
       "      <td>sydney</td>\n",
       "      <td>28.00</td>\n",
       "      <td>windy</td>\n",
       "    </tr>\n",
       "  </tbody>\n",
       "</table>\n",
       "</div>"
      ],
      "text/plain": [
       "   id      city  temp_c       notes\n",
       "0   1  brisbane   22.10       sunny\n",
       "1   2  brisbane   21.80      cloudy\n",
       "2   3   brisban   22.85     unknown\n",
       "3   4   unknown   19.50  light rain\n",
       "4   5    sydney   28.00       windy"
      ]
     },
     "metadata": {},
     "output_type": "display_data"
    }
   ],
   "source": [
    "# 5.2 Handle missing values (with helper)\n",
    "clean2 = fill_missing_auto(clean1, placeholder=\"unknown\")\n",
    "\n",
    "print(\"After filling missing values:\")\n",
    "display(clean2)"
   ]
  },
  {
   "cell_type": "markdown",
   "id": "ba2a622e",
   "metadata": {},
   "source": [
    "### Fix typos"
   ]
  },
  {
   "cell_type": "markdown",
   "id": "e64efd4c",
   "metadata": {},
   "source": [
    "Example dictionary to fix typos"
   ]
  },
  {
   "cell_type": "code",
   "execution_count": 12,
   "id": "61350e4c",
   "metadata": {},
   "outputs": [],
   "source": [
    "city_fix = {\"brisban\": \"brisbane\", \"brisbane \": \"brisbane\"}"
   ]
  },
  {
   "cell_type": "markdown",
   "id": "ff56591e",
   "metadata": {},
   "source": [
    "Asking LLM to make the dictionary"
   ]
  },
  {
   "cell_type": "code",
   "execution_count": 13,
   "id": "2a670169",
   "metadata": {},
   "outputs": [
    {
     "data": {
      "text/plain": [
       "'\\nCreate a function named fill_missing_auto that performs below.\\nIt gets a dataframe, and a place holder string (default \"unknown\"). It detects string and numerical values and fills in \\nmissing values using a simple, easy-to-read approach:\\n  - For the numeric columns replaces NaN values with the column mean.\\n  - For text columns turns \\'none\\' into missing, then fills missing entries with the placeholder (default \"unknown\").\\nReturns a new DataFrame (does not modify the original).\\n'"
      ]
     },
     "execution_count": 13,
     "metadata": {},
     "output_type": "execute_result"
    }
   ],
   "source": [
    "prompt"
   ]
  },
  {
   "cell_type": "code",
   "execution_count": 14,
   "id": "9443a3e2",
   "metadata": {},
   "outputs": [
    {
     "name": "stdout",
     "output_type": "stream",
     "text": [
      "Here's a dictionary that maps common misspellings and typos to their correct spellings:\n",
      "\n",
      "```python\n",
      "city_corrections = {\n",
      "    'Brisban': 'Brisbane',\n",
      "    'brisbane': 'Brisbane',  # to standardize case\n",
      "    'brisban': 'Brisbane',  # another possible typo\n",
      "    'sydney': 'Sydney',  # to standardize case\n",
      "}\n",
      "```\n",
      "\n",
      "You can use this dictionary to replace the misspellings and typos in your list. Note that this dictionary does not handle the `None` value, as it's not a string that can be corrected. You may want to add a separate check to handle `None` values. \n",
      "\n",
      "Here's a simple example of how you could use this dictionary:\n",
      "\n",
      "```python\n",
      "city_list = ['Brisbane', 'brisbane', 'Brisban', None, 'Sydney']\n",
      "\n",
      "corrected_list = []\n",
      "for city in city_list:\n",
      "    if city is None:\n",
      "        corrected_list.append(None)  # or some other default value\n",
      "    else:\n",
      "        corrected_list.append(city_corrections.get(city, city))\n",
      "\n",
      "print(corrected_list)\n",
      "```\n"
     ]
    }
   ],
   "source": [
    "### Ask LLM to generate the dictionary\n",
    "\n",
    "clear_chat()\n",
    "set_system(\"You are a helpful Python tutor. Keep code short, readable, and beginner-friendly.\")\n",
    "\n",
    "\n",
    "column_unique_str = str(raw.city.unique())\n",
    "prompt = f\"\"\"\n",
    "Give me a dictionary to use for replacing and fixing the misspellings and typos in this list: {column_unique_str}\n",
    "\"\"\"\n",
    "\n",
    "code_suggestion = chat(prompt, temperature=0.2)\n",
    "print(code_suggestion)"
   ]
  },
  {
   "cell_type": "markdown",
   "id": "4bf81c6e",
   "metadata": {},
   "source": [
    "Paste the dictionary proposed by the LLM below"
   ]
  },
  {
   "cell_type": "code",
   "execution_count": 15,
   "id": "9c215e7d",
   "metadata": {},
   "outputs": [],
   "source": [
    "city_fix = {\n",
    "    'brisbane': 'Brisbane',\n",
    "    'brisban': 'Brisbane',\n",
    "    'sydney': 'Sydney'\n",
    "}"
   ]
  },
  {
   "cell_type": "markdown",
   "id": "bab8c29c",
   "metadata": {},
   "source": [
    "Testing the dictionary"
   ]
  },
  {
   "cell_type": "code",
   "execution_count": 16,
   "id": "ce5042ae",
   "metadata": {},
   "outputs": [
    {
     "name": "stdout",
     "output_type": "stream",
     "text": [
      "Final cleaned dataset:\n"
     ]
    },
    {
     "data": {
      "text/html": [
       "<div>\n",
       "<style scoped>\n",
       "    .dataframe tbody tr th:only-of-type {\n",
       "        vertical-align: middle;\n",
       "    }\n",
       "\n",
       "    .dataframe tbody tr th {\n",
       "        vertical-align: top;\n",
       "    }\n",
       "\n",
       "    .dataframe thead th {\n",
       "        text-align: right;\n",
       "    }\n",
       "</style>\n",
       "<table border=\"1\" class=\"dataframe\">\n",
       "  <thead>\n",
       "    <tr style=\"text-align: right;\">\n",
       "      <th></th>\n",
       "      <th>id</th>\n",
       "      <th>city</th>\n",
       "      <th>temp_c</th>\n",
       "      <th>notes</th>\n",
       "    </tr>\n",
       "  </thead>\n",
       "  <tbody>\n",
       "    <tr>\n",
       "      <th>0</th>\n",
       "      <td>1</td>\n",
       "      <td>Brisbane</td>\n",
       "      <td>22.10</td>\n",
       "      <td>sunny</td>\n",
       "    </tr>\n",
       "    <tr>\n",
       "      <th>1</th>\n",
       "      <td>2</td>\n",
       "      <td>Brisbane</td>\n",
       "      <td>21.80</td>\n",
       "      <td>cloudy</td>\n",
       "    </tr>\n",
       "    <tr>\n",
       "      <th>2</th>\n",
       "      <td>3</td>\n",
       "      <td>Brisbane</td>\n",
       "      <td>22.85</td>\n",
       "      <td>unknown</td>\n",
       "    </tr>\n",
       "    <tr>\n",
       "      <th>3</th>\n",
       "      <td>4</td>\n",
       "      <td>unknown</td>\n",
       "      <td>19.50</td>\n",
       "      <td>light rain</td>\n",
       "    </tr>\n",
       "    <tr>\n",
       "      <th>4</th>\n",
       "      <td>5</td>\n",
       "      <td>Sydney</td>\n",
       "      <td>28.00</td>\n",
       "      <td>windy</td>\n",
       "    </tr>\n",
       "  </tbody>\n",
       "</table>\n",
       "</div>"
      ],
      "text/plain": [
       "   id      city  temp_c       notes\n",
       "0   1  Brisbane   22.10       sunny\n",
       "1   2  Brisbane   21.80      cloudy\n",
       "2   3  Brisbane   22.85     unknown\n",
       "3   4   unknown   19.50  light rain\n",
       "4   5    Sydney   28.00       windy"
      ]
     },
     "metadata": {},
     "output_type": "display_data"
    }
   ],
   "source": [
    "# 5.3 Fix simple typos using a dictionary\n",
    "clean3 = clean2.copy()\n",
    "clean3[\"city\"] = clean2[\"city\"].replace(city_fix)\n",
    "\n",
    "print(\"Final cleaned dataset:\")\n",
    "display(clean3)\n"
   ]
  },
  {
   "cell_type": "markdown",
   "id": "1ab52817",
   "metadata": {},
   "source": [
    "## 6) Quick statistical help\n",
    "\n",
    "We'll ask the LLM which test compares two independent samples, then **run the test** with Python.\n"
   ]
  },
  {
   "cell_type": "code",
   "execution_count": 17,
   "id": "25ff91ff",
   "metadata": {},
   "outputs": [
    {
     "name": "stdout",
     "output_type": "stream",
     "text": [
      "The simplest statistical test to compare two independent samples when we assume normality is the **Two-Sample T-Test**, also known as the Independent Samples T-Test.\n",
      "\n",
      "This test returns a **p-value** and a **t-statistic**. The p-value indicates the probability of observing the difference between the two sample means (or a more extreme difference) assuming that the true population means are equal. The t-statistic is a measure of the number of standard errors by which the sample means differ.\n",
      "\n",
      "The Two-Sample T-Test works by:\n",
      "\n",
      "1. Calculating the sample means and standard deviations of the two groups.\n",
      "2. Calculating the difference between the sample means.\n",
      "3. Calculating the standard error of the difference (which takes into account the sample sizes and standard deviations).\n",
      "4. Converting the difference to a t-statistic by dividing it by the standard error.\n",
      "5. Looking up the t-statistic in a t-distribution table (or using software) to find the p-value.\n",
      "\n",
      "If the p-value is below a certain significance level (e.g., 0.05), we reject the null hypothesis that the population means are equal, and conclude that the difference between the sample means is statistically significant.\n"
     ]
    }
   ],
   "source": [
    "clear_chat()\n",
    "set_system(\"You are a helpful stats tutor for beginners.\")\n",
    "q = \"What is the name of simplest statistical test to compare two independent samples when we assume normality? Pick a common multi-purpose one and explain briefly what it returns and how it does it.\"\n",
    "ans = chat(q, temperature=0.0)\n",
    "print(ans)\n"
   ]
  },
  {
   "cell_type": "code",
   "execution_count": 18,
   "id": "01570523",
   "metadata": {},
   "outputs": [
    {
     "name": "stdout",
     "output_type": "stream",
     "text": [
      "Model's suggestion: ```python\n",
      "import math\n",
      "\n",
      "def calculate_mean(array):\n",
      "    # Calculate the mean of an array\n",
      "    return sum(array) / len(array)\n",
      "\n",
      "def calculate_variance(array):\n",
      "    # Calculate the variance of an array\n",
      "    mean = calculate_mean(array)\n",
      "    return sum((x - mean) ** 2 for x in array) / len(array)\n",
      "\n",
      "def calculate_standard_deviation(array):\n",
      "    # Calculate the standard deviation of an array\n",
      "    return math.sqrt(calculate_variance(array))\n",
      "\n",
      "def two_sample_t_test(sample1, sample2):\n",
      "    \"\"\"\n",
      "    Perform a two-sample t-test on two independent samples.\n",
      "\n",
      "    Args:\n",
      "        sample1 (list): The first sample.\n",
      "        sample2 (list): The second sample.\n",
      "\n",
      "    Returns:\n",
      "        t_statistic (float): The t-statistic.\n",
      "        p_value (float): The p-value (approximated).\n",
      "    \"\"\"\n",
      "    # Calculate the means of the two samples\n",
      "    mean1 = calculate_mean(sample1)\n",
      "    mean2 = calculate_mean(sample2)\n",
      "\n",
      "    # Calculate the standard deviations of the two samples\n",
      "    std_dev1 = calculate_standard_deviation(sample1)\n",
      "    std_dev2 = calculate_standard_deviation(sample2)\n",
      "\n",
      "    # Calculate the standard error of the difference\n",
      "    n1 = len(sample1)\n",
      "    n2 = len(sample2)\n",
      "    standard_error = math.sqrt((std_dev1 ** 2 / n1) + (std_dev2 ** 2 / n2))\n",
      "\n",
      "    # Calculate the t-statistic\n",
      "    t_statistic = (mean1 - mean2) / standard_error\n",
      "\n",
      "    # Approximate the p-value using a rough estimate (not accurate for small samples)\n",
      "    # This is a very simplified version and should not be used for real-world applications\n",
      "    degrees_of_freedom = n1 + n2 - 2\n",
      "    p_value = 2 * (1 - (math.erf(abs(t_statistic) / math.sqrt(2)) + 1) / 2)\n",
      "\n",
      "    return t_statistic, p_value\n",
      "\n",
      "# Example usage:\n",
      "sample1 = [23, 21, 19, 24, 20]\n",
      "sample2 = [17, 18, 16, 19, 15]\n",
      "t_statistic, p_value = two_sample_t_test(sample1, sample2)\n",
      "print(f\"t-statistic: {t_statistic}, p-value: {p_value}\")\n",
      "```\n",
      "\n",
      "Note: This code is a simplified version of the two-sample t-test and should not be used for real-world applications. The p-value calculation is a rough estimate and not accurate for small samples. In practice, you should use a library like SciPy or a statistical software package to perform a two-sample t-test.\n"
     ]
    }
   ],
   "source": [
    "q=\"\"\"\n",
    "give me a python function that gets two arrays as input and implements this test. \n",
    "Do not import it from any other libraries. \n",
    "keep the code very simple for educational purposes. add comments and explanations to teh code.\n",
    "\"\"\"\n",
    "\n",
    "ans = chat(q, temperature=0.0)\n",
    "print(\"Model's suggestion:\", ans)"
   ]
  },
  {
   "cell_type": "markdown",
   "id": "c5b6979d",
   "metadata": {},
   "source": [
    "Paste the LLM proposed function below"
   ]
  },
  {
   "cell_type": "code",
   "execution_count": 19,
   "id": "30865242",
   "metadata": {},
   "outputs": [],
   "source": [
    "import math\n",
    "\n",
    "def calculate_mean(array):\n",
    "    # Calculate the mean of an array\n",
    "    return sum(array) / len(array)\n",
    "\n",
    "def calculate_variance(array):\n",
    "    # Calculate the variance of an array\n",
    "    mean = calculate_mean(array)\n",
    "    return sum((x - mean) ** 2 for x in array) / len(array)\n",
    "\n",
    "def calculate_standard_deviation(array):\n",
    "    # Calculate the standard deviation of an array\n",
    "    return math.sqrt(calculate_variance(array))\n",
    "\n",
    "def two_sample_t_test(sample1, sample2):\n",
    "    # Calculate the means of the two samples\n",
    "    mean1 = calculate_mean(sample1)\n",
    "    mean2 = calculate_mean(sample2)\n",
    "\n",
    "    # Calculate the standard deviations of the two samples\n",
    "    std_dev1 = calculate_standard_deviation(sample1)\n",
    "    std_dev2 = calculate_standard_deviation(sample2)\n",
    "\n",
    "    # Calculate the standard error of the difference\n",
    "    n1 = len(sample1)\n",
    "    n2 = len(sample2)\n",
    "    std_error = math.sqrt((std_dev1 ** 2 / n1) + (std_dev2 ** 2 / n2))\n",
    "\n",
    "    # Calculate the t-statistic\n",
    "    t_statistic = (mean1 - mean2) / std_error\n",
    "\n",
    "    # Calculate the degrees of freedom\n",
    "    df = n1 + n2 - 2\n",
    "\n",
    "    # Calculate the p-value (approximation using a normal distribution)\n",
    "    # Note: This is a simplification and not the exact p-value calculation\n",
    "    # In practice, you would use a t-distribution table or a library function\n",
    "    p_value = 2 * (1 - (math.erf(abs(t_statistic) / math.sqrt(2)) + 1) / 2)\n",
    "\n",
    "    return t_statistic, p_value"
   ]
  },
  {
   "cell_type": "markdown",
   "id": "8f1d9e33",
   "metadata": {},
   "source": [
    "Testing the function"
   ]
  },
  {
   "cell_type": "code",
   "execution_count": 20,
   "id": "21316f1f",
   "metadata": {},
   "outputs": [
    {
     "name": "stdout",
     "output_type": "stream",
     "text": [
      "T-Statistic: -3.5295748922219743\n",
      "P-Value: 0.0004162278799961783\n"
     ]
    }
   ],
   "source": [
    "# Verify with a simple t-test example\n",
    "\n",
    "import numpy as np\n",
    "rng = np.random.default_rng(0)\n",
    "sample1 = rng.normal(22.0, 2.5, size=30)\n",
    "sample2 = rng.normal(23.0, 2.5, size=30)\n",
    "\n",
    "t_statistic, p_value = two_sample_t_test(sample1, sample2)\n",
    "print(f\"T-Statistic: {t_statistic}\")\n",
    "print(f\"P-Value: {p_value}\")\n"
   ]
  },
  {
   "cell_type": "markdown",
   "id": "6d3e32c2",
   "metadata": {},
   "source": [
    "## 7) Common pitfalls (and how to avoid them)\n",
    "\n",
    "- **Hallucinated imports or functions:** If the model suggests a library you've never seen, verify it exists before using it.\n",
    "- **Silent logic errors:** Read generated code line-by-line and write **tiny tests**.\n",
    "- **Mutable defaults and hidden state:** Prefer pure functions that take inputs and return outputs.\n",
    "- **Reproducibility:** Save prompts, model name, and parameters (temperature, etc.) next to your code.\n",
    "\n",
    "> Rule of thumb: *Treat LLM output like a junior assistant’s draft — helpful, but requires your review.*\n"
   ]
  },
  {
   "cell_type": "markdown",
   "id": "c1d2049e",
   "metadata": {},
   "source": [
    "## 8) Wrap-up\n",
    "\n",
    "You used an LLM to:\n",
    "- Propose a small helper function and explain code.\n",
    "- Clean a tiny dataset with auditable, simple steps.\n",
    "- Ask for a statistical test and verify with Python.\n",
    "\n",
    "**Takeaway:** LLMs can speed up everyday research coding, but **you** stay in control by reviewing, testing, and documenting.\n"
   ]
  }
 ],
 "metadata": {
  "kernelspec": {
   "display_name": "Python 3",
   "language": "python",
   "name": "python3"
  },
  "language_info": {
   "codemirror_mode": {
    "name": "ipython",
    "version": 3
   },
   "file_extension": ".py",
   "mimetype": "text/x-python",
   "name": "python",
   "nbconvert_exporter": "python",
   "pygments_lexer": "ipython3",
   "version": "3.14.0"
  }
 },
 "nbformat": 4,
 "nbformat_minor": 5
}
