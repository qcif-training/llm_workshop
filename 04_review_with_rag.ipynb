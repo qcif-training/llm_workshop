{
 "cells": [
  {
   "cell_type": "markdown",
   "id": "ab80cb89",
   "metadata": {},
   "source": [
    "# 04 — Writing a Mini Literature Review with RAG\n",
    "\n",
    "**What you'll do in this notebook**\n",
    "\n",
    "In the previous notebook, you curated and saved a *top‑K* set of papers to a CSV file (`literature_corpus_top.csv`).  \n",
    "Here, you will:\n",
    "\n",
    "1. **Load** the curated corpus (already filtered to the top‑K papers).  \n",
    "2. **Ask a research question** to focus your review.  \n",
    "3. Run a **simple keyword search** (for quick, transparent validation).  \n",
    "4. Ask an LLM to write a **two‑paragraph literature review**, with **real citations** that link to each paper's **PDF**.  \n",
    "5. Read a short **theoretical note** on more sophisticated approaches for larger corpora.\n",
    "\n",
    "> This notebook is designed for **entry-level researchers**. It favours clarity and minimal code over complexity.\n"
   ]
  },
  {
   "cell_type": "markdown",
   "id": "2a6d4c7f",
   "metadata": {},
   "source": [
    "## 0) Groq API Settings (Run first)\n",
    "\n",
    "Paste your Groq API key. This is **not secure** if you share the notebook—it's fine for a workshop demo.\n"
   ]
  },
  {
   "cell_type": "code",
   "execution_count": null,
   "id": "f0fcb237",
   "metadata": {},
   "outputs": [
    {
     "name": "stdout",
     "output_type": "stream",
     "text": [
      "Groq settings configured. Remember to paste your API key!\n"
     ]
    }
   ],
   "source": [
    "# --- Groq API Settings ---\n",
    "import os\n",
    "\n",
    "# Paste your Groq API key below (between quotes).\n",
    "# NOTE: This is not a secure way of entering API keys if you share the notebook.\n",
    "os.environ[\"GROQ_API_KEY\"] = \"\"  # <-- replace with your key (e.g., \"gsk_...\")\n",
    "model = \"llama-3.3-70b-versatile\"  # Pick a model. See https://console.groq.com/docs/models\n",
    "os.environ[\"BASE_URL\"] = \"https://api.groq.com/openai/v1\"  # OpenAI-compatible API\n",
    "print(\"Groq settings configured. Remember to paste your API key!\")    \n"
   ]
  },
  {
   "cell_type": "markdown",
   "id": "96b2934a",
   "metadata": {},
   "source": [
    "## 1) Create the client and the `chat()` function\n",
    "\n",
    "We use a single helper function `chat()` to talk to the model.  \n",
    "Two convenience helpers manage the conversation memory:\n",
    "\n",
    "- `set_system(text)`: sets the system prompt and resets the history.  \n",
    "- `clear_chat()`: clears history entirely.\n",
    "\n",
    "> Tip: Resetting the chat between tasks keeps context clean and results reproducible.\n"
   ]
  },
  {
   "cell_type": "code",
   "execution_count": 2,
   "id": "340c0eda",
   "metadata": {},
   "outputs": [
    {
     "name": "stdout",
     "output_type": "stream",
     "text": [
      "Testing API ...\n",
      "\n",
      "User:\n",
      "Hello LLM!\n",
      "LLM:\n",
      "Hello! It's nice to meet you. Is there something I can help you with or would you like to chat?\n",
      "\n",
      "Client ready. Use chat('...'), set_system('...'), clear_chat().\n"
     ]
    }
   ],
   "source": [
    "# --- Create the OpenAI-compatible client + chat() helper ---\n",
    "from openai import OpenAI\n",
    "\n",
    "chat_history = []  # running memory for the current conversation\n",
    "\n",
    "client = OpenAI(\n",
    "    api_key=os.environ[\"GROQ_API_KEY\"],\n",
    "    base_url=os.environ[\"BASE_URL\"],\n",
    ")\n",
    "\n",
    "def set_system(prompt: str):\n",
    "    \"\"\"Reset chat history to a single system message.\"\"\"\n",
    "    global chat_history\n",
    "    chat_history = [{\"role\": \"system\", \"content\": prompt}]\n",
    "    return chat_history\n",
    "\n",
    "def clear_chat():\n",
    "    \"\"\"Clear all chat history.\"\"\"\n",
    "    global chat_history\n",
    "    chat_history = []\n",
    "    return chat_history\n",
    "\n",
    "def chat(user_input, temperature: float = 0.2, max_turns: int = 8):\n",
    "    \"\"\"Send one user turn and get a reply, preserving context.\n",
    "    - Keeps system prompt + last `max_turns` user/assistant messages.\n",
    "    \"\"\"\n",
    "    global chat_history\n",
    "    chat_history.append({\"role\": \"user\", \"content\": user_input})\n",
    "\n",
    "    # Keep only the most recent `max_turns` pairs to control context size\n",
    "    system = chat_history[:1]\n",
    "    recent = chat_history[-(max_turns*2):] if len(chat_history) > 1 else []\n",
    "    window = system + recent\n",
    "\n",
    "    resp = client.chat.completions.create(\n",
    "        model=model,\n",
    "        messages=window,\n",
    "        temperature=temperature,\n",
    "    )\n",
    "    reply = resp.choices[0].message.content\n",
    "    chat_history.append({\"role\": \"assistant\", \"content\": reply})\n",
    "    return reply\n",
    "\n",
    "print(\"Testing API ...\")\n",
    "print()\n",
    "print(\"User:\")\n",
    "print(\"Hello LLM!\")\n",
    "print(\"LLM:\")\n",
    "print(chat(\"Hello LLM!\"))\n",
    "print()\n",
    "print(\"Client ready. Use chat('...'), set_system('...'), clear_chat().\")\n"
   ]
  },
  {
   "cell_type": "markdown",
   "id": "cb305682",
   "metadata": {},
   "source": [
    "## 2) Load the curated corpus (top‑K)\n",
    "\n",
    "In Notebook **03**, you created `literature_corpus_top.csv`—a curated set of the most relevant papers.  \n",
    "We load it here and briefly inspect the columns. You can open the CSV later in Excel if you like.\n",
    "\n",
    "> **Important:** We will use **every row** in this CSV (no further filtering here), because this file already represents the *top‑K* selection.\n"
   ]
  },
  {
   "cell_type": "code",
   "execution_count": 3,
   "id": "ebe4a35e",
   "metadata": {},
   "outputs": [
    {
     "name": "stdout",
     "output_type": "stream",
     "text": [
      "Loaded corpus with 3 rows.\n"
     ]
    },
    {
     "data": {
      "text/html": [
       "<div>\n",
       "<style scoped>\n",
       "    .dataframe tbody tr th:only-of-type {\n",
       "        vertical-align: middle;\n",
       "    }\n",
       "\n",
       "    .dataframe tbody tr th {\n",
       "        vertical-align: top;\n",
       "    }\n",
       "\n",
       "    .dataframe thead th {\n",
       "        text-align: right;\n",
       "    }\n",
       "</style>\n",
       "<table border=\"1\" class=\"dataframe\">\n",
       "  <thead>\n",
       "    <tr style=\"text-align: right;\">\n",
       "      <th></th>\n",
       "      <th>title</th>\n",
       "      <th>summary</th>\n",
       "      <th>published</th>\n",
       "      <th>link</th>\n",
       "      <th>pdf</th>\n",
       "      <th>authors</th>\n",
       "      <th>summary_llm</th>\n",
       "      <th>structured</th>\n",
       "      <th>pdf_file</th>\n",
       "      <th>crude_text</th>\n",
       "    </tr>\n",
       "  </thead>\n",
       "  <tbody>\n",
       "    <tr>\n",
       "      <th>0</th>\n",
       "      <td>Local-projective-measurement-enhanced quantum ...</td>\n",
       "      <td>Quantum batteries have significant potential a...</td>\n",
       "      <td>2024-05-06</td>\n",
       "      <td>NaN</td>\n",
       "      <td>http://arxiv.org/pdf/2405.03093v1</td>\n",
       "      <td>Tinggui Zhang, Hong Yang, Shao-Ming Fei</td>\n",
       "      <td>This study explores methods to enhance the cap...</td>\n",
       "      <td>{'methodology': 'Local projective measurements...</td>\n",
       "      <td>2405.03093v1.pdf</td>\n",
       "      <td>arXiv:2405.03093v1  [quant-ph]  6 May 2024\\nLo...</td>\n",
       "    </tr>\n",
       "    <tr>\n",
       "      <th>1</th>\n",
       "      <td>Optimizing quantum battery performance by redu...</td>\n",
       "      <td>Quantum batteries have emerged as promising de...</td>\n",
       "      <td>2025-05-12</td>\n",
       "      <td>NaN</td>\n",
       "      <td>http://arxiv.org/pdf/2505.08029v1</td>\n",
       "      <td>Rohit Kumar Shukla, Rajiv Kumar, Ujjwal Sen, S...</td>\n",
       "      <td>Researchers investigated the dynamics of quant...</td>\n",
       "      <td>{'methodology': 'Investigating interplay betwe...</td>\n",
       "      <td>2505.08029v1.pdf</td>\n",
       "      <td>arXiv:2505.08029v1  [quant-ph]  12 May 2025\\nO...</td>\n",
       "    </tr>\n",
       "    <tr>\n",
       "      <th>2</th>\n",
       "      <td>Efficient charging of multiple open quantum ba...</td>\n",
       "      <td>We explore a protocol that efficiently charges...</td>\n",
       "      <td>2024-10-25</td>\n",
       "      <td>NaN</td>\n",
       "      <td>http://arxiv.org/pdf/2410.19303v1</td>\n",
       "      <td>Josephine Dias, Hui Wang, Kae Nemoto, Franco N...</td>\n",
       "      <td>This study aims to develop an efficient protoc...</td>\n",
       "      <td>{'methodology': 'protocol using collective cou...</td>\n",
       "      <td>2410.19303v1.pdf</td>\n",
       "      <td>Efficient charging of multiple open quantum ba...</td>\n",
       "    </tr>\n",
       "  </tbody>\n",
       "</table>\n",
       "</div>"
      ],
      "text/plain": [
       "                                               title  \\\n",
       "0  Local-projective-measurement-enhanced quantum ...   \n",
       "1  Optimizing quantum battery performance by redu...   \n",
       "2  Efficient charging of multiple open quantum ba...   \n",
       "\n",
       "                                             summary   published  link  \\\n",
       "0  Quantum batteries have significant potential a...  2024-05-06   NaN   \n",
       "1  Quantum batteries have emerged as promising de...  2025-05-12   NaN   \n",
       "2  We explore a protocol that efficiently charges...  2024-10-25   NaN   \n",
       "\n",
       "                                 pdf  \\\n",
       "0  http://arxiv.org/pdf/2405.03093v1   \n",
       "1  http://arxiv.org/pdf/2505.08029v1   \n",
       "2  http://arxiv.org/pdf/2410.19303v1   \n",
       "\n",
       "                                             authors  \\\n",
       "0            Tinggui Zhang, Hong Yang, Shao-Ming Fei   \n",
       "1  Rohit Kumar Shukla, Rajiv Kumar, Ujjwal Sen, S...   \n",
       "2  Josephine Dias, Hui Wang, Kae Nemoto, Franco N...   \n",
       "\n",
       "                                         summary_llm  \\\n",
       "0  This study explores methods to enhance the cap...   \n",
       "1  Researchers investigated the dynamics of quant...   \n",
       "2  This study aims to develop an efficient protoc...   \n",
       "\n",
       "                                          structured          pdf_file  \\\n",
       "0  {'methodology': 'Local projective measurements...  2405.03093v1.pdf   \n",
       "1  {'methodology': 'Investigating interplay betwe...  2505.08029v1.pdf   \n",
       "2  {'methodology': 'protocol using collective cou...  2410.19303v1.pdf   \n",
       "\n",
       "                                          crude_text  \n",
       "0  arXiv:2405.03093v1  [quant-ph]  6 May 2024\\nLo...  \n",
       "1  arXiv:2505.08029v1  [quant-ph]  12 May 2025\\nO...  \n",
       "2  Efficient charging of multiple open quantum ba...  "
      ]
     },
     "execution_count": 3,
     "metadata": {},
     "output_type": "execute_result"
    }
   ],
   "source": [
    "import pandas as pd\n",
    "from pathlib import Path\n",
    "\n",
    "DATA_DIR = Path(\"literature_data\")\n",
    "CORPUS_CSV = DATA_DIR / \"literature_corpus_top.csv\"\n",
    "assert CORPUS_CSV.exists(), \"Could not find literature_corpus_top.csv. Run Notebook 03 first.\"\n",
    "\n",
    "corpus = pd.read_csv(CORPUS_CSV)\n",
    "print(f\"Loaded corpus with {len(corpus)} rows.\")\n",
    "corpus.head(3)\n"
   ]
  },
  {
   "cell_type": "markdown",
   "id": "fa0ee4b2",
   "metadata": {},
   "source": [
    "*What are these columns?*  \n",
    "- **title**: paper title  \n",
    "- **authors**: authors (string)  \n",
    "- **published**: publication date (from arXiv)  \n",
    "- **pdf**: direct PDF link (we will cite this in the review)  \n",
    "- **link**: arXiv HTML page (fallback if PDF is missing)  \n",
    "- **summary** / **summary_llm**: abstract and/or LLM summary  \n",
    "- **crude_text**: optional partial text extracted from PDF in the previous notebook\n",
    "\n",
    "If some of these are missing, don't worry—this notebook still works with what you have.\n"
   ]
  },
  {
   "cell_type": "markdown",
   "id": "40dbbe4a",
   "metadata": {},
   "source": [
    "## 3) Ask a research question\n",
    "\n",
    "A clear question focuses the search and helps the model write a coherent review.  \n",
    "You can (and should) edit this to your topic of interest.\n",
    "\n",
    "You can also pick keywords and only work on papers that contain at least one keywrod. \n"
   ]
  },
  {
   "cell_type": "code",
   "execution_count": 4,
   "id": "5a23c6b2",
   "metadata": {},
   "outputs": [],
   "source": [
    "# 👉 Edit this question to match your topic.\n",
    "research_question = \"How do local projective measurements influence the charging capacity of quantum batteries?\"\n",
    "keywords = [\"quantum battery\", \"measurement\", \"projective\", \"capacity\", \"charging\"]\n",
    "\n"
   ]
  },
  {
   "cell_type": "markdown",
   "id": "a81f573d",
   "metadata": {},
   "source": [
    "*Why this matters:* A good question anchors both your manual exploration (keyword checks) and the model's synthesis.\n"
   ]
  },
  {
   "cell_type": "markdown",
   "id": "7c601096",
   "metadata": {},
   "source": [
    "## 4) Keyword search (quick evaluation & exploration)\n",
    "\n",
    "Before synthesising a review, it's useful to quickly scan which papers mention key terms from the question.  \n",
    "This is **not** semantic search—it's a simple, transparent way to build intuition.\n",
    "\n",
    "**What we’ll do:**\n",
    "1. Choose a small list of keywords (derived from the question).  \n",
    "2. Search each paper’s `summary` (or `summary_llm` / `crude_text` if `summary` is missing).  \n",
    "3. Display papers that mention at least one keyword.\n"
   ]
  },
  {
   "cell_type": "code",
   "execution_count": 5,
   "id": "a00e718e",
   "metadata": {},
   "outputs": [
    {
     "data": {
      "text/html": [
       "<div>\n",
       "<style scoped>\n",
       "    .dataframe tbody tr th:only-of-type {\n",
       "        vertical-align: middle;\n",
       "    }\n",
       "\n",
       "    .dataframe tbody tr th {\n",
       "        vertical-align: top;\n",
       "    }\n",
       "\n",
       "    .dataframe thead th {\n",
       "        text-align: right;\n",
       "    }\n",
       "</style>\n",
       "<table border=\"1\" class=\"dataframe\">\n",
       "  <thead>\n",
       "    <tr style=\"text-align: right;\">\n",
       "      <th></th>\n",
       "      <th>title</th>\n",
       "      <th>summary</th>\n",
       "      <th>published</th>\n",
       "      <th>link</th>\n",
       "      <th>pdf</th>\n",
       "      <th>authors</th>\n",
       "      <th>summary_llm</th>\n",
       "      <th>structured</th>\n",
       "      <th>pdf_file</th>\n",
       "      <th>crude_text</th>\n",
       "    </tr>\n",
       "  </thead>\n",
       "  <tbody>\n",
       "    <tr>\n",
       "      <th>0</th>\n",
       "      <td>Local-projective-measurement-enhanced quantum ...</td>\n",
       "      <td>Quantum batteries have significant potential a...</td>\n",
       "      <td>2024-05-06</td>\n",
       "      <td>NaN</td>\n",
       "      <td>http://arxiv.org/pdf/2405.03093v1</td>\n",
       "      <td>Tinggui Zhang, Hong Yang, Shao-Ming Fei</td>\n",
       "      <td>This study explores methods to enhance the cap...</td>\n",
       "      <td>{'methodology': 'Local projective measurements...</td>\n",
       "      <td>2405.03093v1.pdf</td>\n",
       "      <td>arXiv:2405.03093v1  [quant-ph]  6 May 2024\\nLo...</td>\n",
       "    </tr>\n",
       "    <tr>\n",
       "      <th>1</th>\n",
       "      <td>Optimizing quantum battery performance by redu...</td>\n",
       "      <td>Quantum batteries have emerged as promising de...</td>\n",
       "      <td>2025-05-12</td>\n",
       "      <td>NaN</td>\n",
       "      <td>http://arxiv.org/pdf/2505.08029v1</td>\n",
       "      <td>Rohit Kumar Shukla, Rajiv Kumar, Ujjwal Sen, S...</td>\n",
       "      <td>Researchers investigated the dynamics of quant...</td>\n",
       "      <td>{'methodology': 'Investigating interplay betwe...</td>\n",
       "      <td>2505.08029v1.pdf</td>\n",
       "      <td>arXiv:2505.08029v1  [quant-ph]  12 May 2025\\nO...</td>\n",
       "    </tr>\n",
       "    <tr>\n",
       "      <th>2</th>\n",
       "      <td>Efficient charging of multiple open quantum ba...</td>\n",
       "      <td>We explore a protocol that efficiently charges...</td>\n",
       "      <td>2024-10-25</td>\n",
       "      <td>NaN</td>\n",
       "      <td>http://arxiv.org/pdf/2410.19303v1</td>\n",
       "      <td>Josephine Dias, Hui Wang, Kae Nemoto, Franco N...</td>\n",
       "      <td>This study aims to develop an efficient protoc...</td>\n",
       "      <td>{'methodology': 'protocol using collective cou...</td>\n",
       "      <td>2410.19303v1.pdf</td>\n",
       "      <td>Efficient charging of multiple open quantum ba...</td>\n",
       "    </tr>\n",
       "  </tbody>\n",
       "</table>\n",
       "</div>"
      ],
      "text/plain": [
       "                                               title  \\\n",
       "0  Local-projective-measurement-enhanced quantum ...   \n",
       "1  Optimizing quantum battery performance by redu...   \n",
       "2  Efficient charging of multiple open quantum ba...   \n",
       "\n",
       "                                             summary   published  link  \\\n",
       "0  Quantum batteries have significant potential a...  2024-05-06   NaN   \n",
       "1  Quantum batteries have emerged as promising de...  2025-05-12   NaN   \n",
       "2  We explore a protocol that efficiently charges...  2024-10-25   NaN   \n",
       "\n",
       "                                 pdf  \\\n",
       "0  http://arxiv.org/pdf/2405.03093v1   \n",
       "1  http://arxiv.org/pdf/2505.08029v1   \n",
       "2  http://arxiv.org/pdf/2410.19303v1   \n",
       "\n",
       "                                             authors  \\\n",
       "0            Tinggui Zhang, Hong Yang, Shao-Ming Fei   \n",
       "1  Rohit Kumar Shukla, Rajiv Kumar, Ujjwal Sen, S...   \n",
       "2  Josephine Dias, Hui Wang, Kae Nemoto, Franco N...   \n",
       "\n",
       "                                         summary_llm  \\\n",
       "0  This study explores methods to enhance the cap...   \n",
       "1  Researchers investigated the dynamics of quant...   \n",
       "2  This study aims to develop an efficient protoc...   \n",
       "\n",
       "                                          structured          pdf_file  \\\n",
       "0  {'methodology': 'Local projective measurements...  2405.03093v1.pdf   \n",
       "1  {'methodology': 'Investigating interplay betwe...  2505.08029v1.pdf   \n",
       "2  {'methodology': 'protocol using collective cou...  2410.19303v1.pdf   \n",
       "\n",
       "                                          crude_text  \n",
       "0  arXiv:2405.03093v1  [quant-ph]  6 May 2024\\nLo...  \n",
       "1  arXiv:2505.08029v1  [quant-ph]  12 May 2025\\nO...  \n",
       "2  Efficient charging of multiple open quantum ba...  "
      ]
     },
     "execution_count": 5,
     "metadata": {},
     "output_type": "execute_result"
    }
   ],
   "source": [
    "# Choose simple keywords (edit freely)\n",
    "# Get all text from the crude_text column (empty string if missing)\n",
    "text_series = corpus[\"crude_text\"].fillna(\"\").astype(str).str.lower()\n",
    "\n",
    "# Check whether each text contains any of the keywords\n",
    "mask = text_series.apply(lambda txt: any(k in txt for k in keywords))\n",
    "\n",
    "# Keep only rows that contain at least one keyword\n",
    "keyword_hits = corpus[mask].copy()\n",
    "\n",
    "keyword_hits.head(10)\n"
   ]
  },
  {
   "cell_type": "markdown",
   "id": "eca62aa0",
   "metadata": {},
   "source": [
    "*Reading the results:* Hit counts provide a rough, explainable signal.  \n",
    "If you see very few hits, consider broadening your keywords or checking a different text column (e.g., `crude_text`).\n"
   ]
  },
  {
   "cell_type": "markdown",
   "id": "fb508399",
   "metadata": {},
   "source": [
    "## 5) Write a two‑paragraph literature review (with real links)\n",
    "\n",
    "We now ask the LLM to write a **two‑paragraph** literature review that directly answers our research question.  \n",
    "To keep the output **verifiable**, we ask the model to cite papers by **linking to their PDF** (from the `pdf` column).  \n",
    "\n",
    "**How we make it reliable:**\n",
    "- We present the model with the **full table** of candidate papers (already curated top‑K).  \n",
    "- We give a **clear instruction** to base the review *only* on these papers.  \n",
    "- We explicitly ask for citations using the `pdf` links in parentheses.\n"
   ]
  },
  {
   "cell_type": "code",
   "execution_count": 6,
   "id": "f083118f",
   "metadata": {},
   "outputs": [
    {
     "data": {
      "text/html": [
       "<div>\n",
       "<style scoped>\n",
       "    .dataframe tbody tr th:only-of-type {\n",
       "        vertical-align: middle;\n",
       "    }\n",
       "\n",
       "    .dataframe tbody tr th {\n",
       "        vertical-align: top;\n",
       "    }\n",
       "\n",
       "    .dataframe thead th {\n",
       "        text-align: right;\n",
       "    }\n",
       "</style>\n",
       "<table border=\"1\" class=\"dataframe\">\n",
       "  <thead>\n",
       "    <tr style=\"text-align: right;\">\n",
       "      <th></th>\n",
       "      <th>title</th>\n",
       "      <th>summary</th>\n",
       "      <th>pdf</th>\n",
       "    </tr>\n",
       "  </thead>\n",
       "  <tbody>\n",
       "    <tr>\n",
       "      <th>0</th>\n",
       "      <td>Local-projective-measurement-enhanced quantum ...</td>\n",
       "      <td>Quantum batteries have significant potential a...</td>\n",
       "      <td>http://arxiv.org/pdf/2405.03093v1</td>\n",
       "    </tr>\n",
       "    <tr>\n",
       "      <th>1</th>\n",
       "      <td>Optimizing quantum battery performance by redu...</td>\n",
       "      <td>Quantum batteries have emerged as promising de...</td>\n",
       "      <td>http://arxiv.org/pdf/2505.08029v1</td>\n",
       "    </tr>\n",
       "    <tr>\n",
       "      <th>2</th>\n",
       "      <td>Efficient charging of multiple open quantum ba...</td>\n",
       "      <td>We explore a protocol that efficiently charges...</td>\n",
       "      <td>http://arxiv.org/pdf/2410.19303v1</td>\n",
       "    </tr>\n",
       "  </tbody>\n",
       "</table>\n",
       "</div>"
      ],
      "text/plain": [
       "                                               title  \\\n",
       "0  Local-projective-measurement-enhanced quantum ...   \n",
       "1  Optimizing quantum battery performance by redu...   \n",
       "2  Efficient charging of multiple open quantum ba...   \n",
       "\n",
       "                                             summary  \\\n",
       "0  Quantum batteries have significant potential a...   \n",
       "1  Quantum batteries have emerged as promising de...   \n",
       "2  We explore a protocol that efficiently charges...   \n",
       "\n",
       "                                 pdf  \n",
       "0  http://arxiv.org/pdf/2405.03093v1  \n",
       "1  http://arxiv.org/pdf/2505.08029v1  \n",
       "2  http://arxiv.org/pdf/2410.19303v1  "
      ]
     },
     "execution_count": 6,
     "metadata": {},
     "output_type": "execute_result"
    }
   ],
   "source": [
    "# We build a compact textual view of the corpus that the model can read.\n",
    "# Keep the table short enough to fit into the prompt. If your corpus is long,\n",
    "# consider slicing columns or truncating summaries.\n",
    "\n",
    "subset_cols = [c for c in [\"title\",\"summary\",\"pdf\"] if c in corpus.columns]\n",
    "table_for_prompt = corpus[subset_cols].fillna(\"\").copy()\n",
    "\n",
    "# Truncate long summaries to keep the prompt smaller and cheaper\n",
    "table_for_prompt[\"summary\"] = table_for_prompt[\"summary\"].apply(lambda s: (s[:700] + \"…\") if isinstance(s, str) and len(s) > 700 else s)\n",
    "table_for_prompt"
   ]
  },
  {
   "cell_type": "code",
   "execution_count": 7,
   "id": "aa6dc86d",
   "metadata": {},
   "outputs": [
    {
     "data": {
      "text/plain": [
       "\"    Write a coherent **two-paragraph literature review** answering the question below.\\nUse **only** the papers provided. For each claim, cite at least one paper\\nby adding the paper's **PDF link** in parentheses, e.g., (https://arxiv.org/pdf/XXXX).\\n\\n**Question:**\\nHow do local projective measurements influence the charging capacity of quantum batteries?\\n\\n**Papers (title, summary, pdf):**\\n                                                                                    title                                                                                                                                                                                                                                                                                                                                                                                                                                                                                                                                                                                                                                                                                                                       summary                               pdf\\n                           Local-projective-measurement-enhanced quantum battery capacity Quantum batteries have significant potential applications for future industry and daily life. The capacity is an important indicator for a battery. Methods to improve the capacity of quantum batteries are important. We consider quantum batteries given by bipartite quantum systems and study the enhancement of the battery capacity under local projective measurements on a subsystem of the quantum state. By using two-qubit Bell-diagonal states and X-type states as examples, we show that quantum battery capacity with respect to the whole system or a subsystem can be improved by local projective measurements. Our theoretical analysis will provide ideas for the experimental development of quantum b… http://arxiv.org/pdf/2405.03093v1\\nOptimizing quantum battery performance by reducing battery influence in charging dynamics Quantum batteries have emerged as promising devices that work within the quantum regime and provide energy storage and power delivery. We investigate the interplay between the battery and charger Hamiltonians, with a particular focus on minimizing the battery s influence during the charging dynamics. To achieve this, we introduce a control parameter that allows us to suppress the battery s contribution during the charging dynamics. We explore various configurations, including a non-interacting many-body battery with an interacting many-body charger, an interacting battery with a non-interacting charger, and systems where both the battery and charger are interacting many-body systems. Our res… http://arxiv.org/pdf/2505.08029v1\\n    Efficient charging of multiple open quantum batteries through dissipation and pumping                                                                   We explore a protocol that efficiently charges multiple open quantum batteries in parallel using a single charger. This protocol shows super-extensive charging through collective coupling of the charger and the battery to the same thermal reservoir. When applied to multiple quantum batteries, each coupled to different thermal reservoirs, the energy cannot be efficiently transferred from the charger to the battery via collective dissipation alone. We show that the counter-intuitive act of incorporating both dissipation and incoherent collective pumping on the charger enables efficient parallel charging of many quantum batteries. http://arxiv.org/pdf/2410.19303v1\\n\\nRequirements:\\n- Two paragraphs, formal academic tone\\n- Factual, concise, and grounded in the provided papers\\n- Each paragraph should contain at least one citation using the `pdf` link\\n- Do not invent citations or links\\n\""
      ]
     },
     "execution_count": 7,
     "metadata": {},
     "output_type": "execute_result"
    }
   ],
   "source": [
    "\n",
    "prompt = f\"\"\"    Write a coherent **two-paragraph literature review** answering the question below.\n",
    "Use **only** the papers provided. For each claim, cite at least one paper\n",
    "by adding the paper's **PDF link** in parentheses, e.g., (https://arxiv.org/pdf/XXXX).\n",
    "\n",
    "**Question:**\n",
    "{research_question}\n",
    "\n",
    "**Papers (title, summary, pdf):**\n",
    "{table_for_prompt.to_string(index=False)}\n",
    "\n",
    "Requirements:\n",
    "- Two paragraphs, formal academic tone\n",
    "- Factual, concise, and grounded in the provided papers\n",
    "- Each paragraph should contain at least one citation using the `pdf` link\n",
    "- Do not invent citations or links\n",
    "\"\"\"\n",
    "\n",
    "prompt"
   ]
  },
  {
   "cell_type": "code",
   "execution_count": 8,
   "id": "fee18ec1",
   "metadata": {},
   "outputs": [
    {
     "name": "stdout",
     "output_type": "stream",
     "text": [
      "The influence of local projective measurements on the charging capacity of quantum batteries has been a subject of interest in recent studies. Research has shown that local projective measurements can enhance the capacity of quantum batteries, particularly in bipartite quantum systems (http://arxiv.org/pdf/2405.03093v1). By applying local projective measurements on a subsystem of the quantum state, the battery capacity with respect to the whole system or a subsystem can be improved. This has been demonstrated using two-qubit Bell-diagonal states and X-type states as examples, highlighting the potential of local projective measurements in optimizing quantum battery performance (http://arxiv.org/pdf/2405.03093v1). Furthermore, the interplay between the battery and charger Hamiltonians has also been investigated, with a focus on minimizing the battery's influence during the charging dynamics (http://arxiv.org/pdf/2505.08029v1).\n",
      "\n",
      "The optimization of quantum battery performance is a complex task, involving the manipulation of various parameters to achieve efficient charging. In addition to local projective measurements, other strategies have been proposed to enhance charging capacity. For instance, a protocol that utilizes dissipation and pumping to charge multiple open quantum batteries in parallel has been explored (http://arxiv.org/pdf/2410.19303v1). This approach enables super-extensive charging through collective coupling of the charger and the battery to the same thermal reservoir. Moreover, the incorporation of both dissipation and incoherent collective pumping on the charger has been shown to facilitate efficient parallel charging of many quantum batteries (http://arxiv.org/pdf/2410.19303v1). These findings highlight the importance of considering multiple factors, including local projective measurements and charging dynamics, to optimize the performance of quantum batteries (http://arxiv.org/pdf/2505.08029v1).\n"
     ]
    }
   ],
   "source": [
    "\n",
    "clear_chat()\n",
    "set_system(\"You are an academic assistant writing short literature reviews.\")\n",
    "\n",
    "review_text = chat(prompt, temperature=0.3)\n",
    "print(review_text)\n"
   ]
  },
  {
   "cell_type": "markdown",
   "id": "6bdfba75",
   "metadata": {},
   "source": [
    "*Tip:* If you see missing or incorrect links, check your `pdf` column values.  \n",
    "You can also reduce the prompt size by limiting columns, or by shortening summaries more aggressively.\n"
   ]
  },
  {
   "cell_type": "markdown",
   "id": "e3c498d5",
   "metadata": {},
   "source": [
    "## 6) Save the generated review (optional but recommended)\n",
    "\n",
    "Saving the output makes it easy to share or iterate later.\n"
   ]
  },
  {
   "cell_type": "code",
   "execution_count": 9,
   "id": "942f5a6c",
   "metadata": {},
   "outputs": [
    {
     "name": "stdout",
     "output_type": "stream",
     "text": [
      "Saved review to: C:\\code\\llm_tutorial\\literature_data\\mini_lit_review.txt\n"
     ]
    }
   ],
   "source": [
    "from pathlib import Path\n",
    "out_txt = Path(\"literature_data\") / \"mini_lit_review.txt\"\n",
    "with open(out_txt, \"w\", encoding=\"utf-8\") as f:\n",
    "    f.write(review_text)\n",
    "print(\"Saved review to:\", out_txt.resolve())\n"
   ]
  },
  {
   "cell_type": "markdown",
   "id": "65d25677",
   "metadata": {},
   "source": [
    "## 7) Beyond this notebook — methods for larger corpora (theory only)\n",
    "\n",
    "When the number of papers becomes large, we need methods that scale while keeping quality high.\n",
    "\n",
    "**A. Embedding‑based retrieval and clustering**  \n",
    "- Convert each abstract/full text and your question into **vector embeddings**.  \n",
    "- Use cosine similarity to retrieve the most relevant papers.  \n",
    "- Cluster embeddings (e.g., with K‑Means or HDBSCAN) to reveal **themes** or **subtopics**, then summarise per cluster.\n",
    "\n",
    "**B. Hierarchical summarisation**  \n",
    "- Summarise small batches (or clusters) of papers first.  \n",
    "- Then summarise those summaries to produce a clean, high‑level narrative.  \n",
    "- This *divide‑and‑conquer* approach scales to hundreds of papers.\n",
    "\n",
    "**C. Hybrid RAG pipelines**  \n",
    "- Combine embeddings for retrieval (fast, consistent) with an LLM for synthesis (nuanced, fluent).  \n",
    "- Ground the LLM in retrieved passages to reduce hallucinations, and always **cite** source papers.\n",
    "\n",
    "**D. Multi‑criteria scoring**  \n",
    "- Define simple criteria (e.g., *method novelty*, *data similarity*, *domain fit*, *practicality*) and score each paper (1–5).  \n",
    "- Take a weighted average to rank papers. This improves transparency and repeatability in reviews.\n",
    "\n",
    "> These ideas extend the simple approach in this notebook and are commonly used in systematic reviews and large‑scale literature surveys.\n"
   ]
  }
 ],
 "metadata": {
  "kernelspec": {
   "display_name": "Python 3",
   "language": "python",
   "name": "python3"
  },
  "language_info": {
   "codemirror_mode": {
    "name": "ipython",
    "version": 3
   },
   "file_extension": ".py",
   "mimetype": "text/x-python",
   "name": "python",
   "nbconvert_exporter": "python",
   "pygments_lexer": "ipython3",
   "version": "3.14.0"
  }
 },
 "nbformat": 4,
 "nbformat_minor": 5
}
